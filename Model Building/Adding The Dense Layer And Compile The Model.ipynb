{
  "cells": [
    {
      "cell_type": "markdown",
      "metadata": {
        "id": "9qfQldw3dA8E"
      },
      "source": [
        "**Model** **Building**"
      ]
    },
    {
      "cell_type": "markdown",
      "metadata": {
        "id": "svoNt-gbc5WV"
      },
      "source": [
        "**Import** **The** **Required** **Model** **Building** **Libraries**"
      ]
    },
    {
      "cell_type": "code",
      "execution_count": null,
      "metadata": {
        "id": "suBoUL7LdAD8"
      },
      "outputs": [],
      "source": [
        "from keras.preprocessing.image import ImageDataGenerator"
      ]
    },
    {
      "cell_type": "code",
      "execution_count": null,
      "metadata": {
        "id": "Sb2PG7PxdafF"
      },
      "outputs": [],
      "source": [
        "train_datagen=ImageDataGenerator(rescale=1./255,shear_range=0.2,zoom_range=0.2,horizontal_flip=True)"
      ]
    },
    {
      "cell_type": "code",
      "execution_count": null,
      "metadata": {
        "id": "OB5gL9aSdexg"
      },
      "outputs": [],
      "source": [
        "test_datagen=ImageDataGenerator(rescale=1./255)"
      ]
    },
    {
      "cell_type": "markdown",
      "metadata": {
        "id": "or8E_cNTdf6K"
      },
      "source": [
        "IMPORTING tensorflow"
      ]
    },
    {
      "cell_type": "code",
      "execution_count": null,
      "metadata": {
        "id": "DSA6_Qutdi6w"
      },
      "outputs": [],
      "source": [
        "import tensorflow as tf\n",
        "import os"
      ]
    },
    {
      "cell_type": "markdown",
      "metadata": {
        "id": "xhifSM0JdnbB"
      },
      "source": [
        "Initialize The Model"
      ]
    },
    {
      "cell_type": "code",
      "execution_count": null,
      "metadata": {
        "id": "oQDc06z1dqQ4"
      },
      "outputs": [],
      "source": [
        "from keras.models import Sequential\n",
        "from keras.layers import Dense\n",
        "from keras.layers import Convolution2D\n",
        "from keras.layers import MaxPooling2D\n",
        "from keras.layers import Dropout\n",
        "from keras.layers import Flatten \n",
        "from tensorflow.keras.preprocessing.image import ImageDataGenerator"
      ]
    },
    {
      "cell_type": "code",
      "execution_count": null,
      "metadata": {
        "id": "MFetHmk1dveY"
      },
      "outputs": [],
      "source": [
        "import numpy as np\n",
        "import matplotlib.pyplot as plt #to view graph in colab itself\n",
        "import IPython.display as display\n",
        "from PIL import Image\n",
        "import pathlib"
      ]
    },
    {
      "cell_type": "markdown",
      "metadata": {
        "id": "vSNNrZWjdwrv"
      },
      "source": [
        "Unzipping the dataset"
      ]
    },
    {
      "cell_type": "code",
      "execution_count": null,
      "metadata": {
        "colab": {
          "base_uri": "https://localhost:8080/"
        },
        "id": "40MItqp2dzs_",
        "outputId": "188f6606-716c-49ba-8b58-0a8808da70e5"
      },
      "outputs": [],
      "source": [
        "!unzip '/content/Dataset.zip'"
      ]
    },
    {
      "cell_type": "markdown",
      "metadata": {
        "id": "oCH0L0Dpehjp"
      },
      "source": [
        "Applying ImageDataGenerator to training set"
      ]
    },
    {
      "cell_type": "code",
      "execution_count": null,
      "metadata": {
        "colab": {
          "base_uri": "https://localhost:8080/"
        },
        "id": "85SNtyy5eiTW",
        "outputId": "fa000c4a-b12d-49fc-bb0c-3b6e816406f1"
      },
      "outputs": [],
      "source": [
        "x_train=train_datagen.flow_from_directory('/content/Dataset/training_set',target_size=(64,64),batch_size=200,\n",
        "                                          class_mode='categorical',color_mode=\"grayscale\")"
      ]
    },
    {
      "cell_type": "markdown",
      "metadata": {
        "id": "ieuGnjI0hKks"
      },
      "source": [
        "Applying ImageDataGenerator to test set"
      ]
    },
    {
      "cell_type": "code",
      "execution_count": null,
      "metadata": {
        "colab": {
          "base_uri": "https://localhost:8080/"
        },
        "id": "wnguwm_6hLc1",
        "outputId": "eab5e33f-2578-4bef-9120-9175c2dade73"
      },
      "outputs": [],
      "source": [
        "x_test=test_datagen.flow_from_directory('/content/Dataset/test_set',target_size=(64,64),batch_size=200,\n",
        "                                          class_mode='categorical',color_mode=\"grayscale\")"
      ]
    },
    {
      "cell_type": "code",
      "execution_count": null,
      "metadata": {
        "id": "QFPdFho8hRAc"
      },
      "outputs": [],
      "source": [
        "a=len(x_train)\n",
        "b=len(x_test)"
      ]
    },
    {
      "cell_type": "markdown",
      "metadata": {
        "id": "ni8LnHu-hSZT"
      },
      "source": [
        "Length of training set"
      ]
    },
    {
      "cell_type": "code",
      "execution_count": null,
      "metadata": {
        "colab": {
          "base_uri": "https://localhost:8080/"
        },
        "id": "21C4qHIPhVO0",
        "outputId": "3ab616d6-926d-4d51-8909-b74cb178da4c"
      },
      "outputs": [],
      "source": [
        "print(a)"
      ]
    },
    {
      "cell_type": "markdown",
      "metadata": {
        "id": "1KtD33Qzhd6U"
      },
      "source": [
        "Length of test set"
      ]
    },
    {
      "cell_type": "code",
      "execution_count": null,
      "metadata": {
        "colab": {
          "base_uri": "https://localhost:8080/"
        },
        "id": "0TPkymBNhfEE",
        "outputId": "118c9b3a-fd9a-4d12-c5ff-f17423473c36"
      },
      "outputs": [],
      "source": [
        "print(b)"
      ]
    },
    {
      "cell_type": "markdown",
      "metadata": {
        "id": "n2VlCtSkhkpc"
      },
      "source": [
        "Add Layers"
      ]
    },
    {
      "cell_type": "code",
      "execution_count": null,
      "metadata": {
        "id": "KCf18mU7hlbr"
      },
      "outputs": [],
      "source": [
        "model=Sequential()"
      ]
    },
    {
      "cell_type": "markdown",
      "metadata": {
        "id": "4MW-kl42hoMz"
      },
      "source": [
        "Add The Convolution Layer"
      ]
    },
    {
      "cell_type": "code",
      "execution_count": null,
      "metadata": {
        "id": "dVxoOE7Ohse7"
      },
      "outputs": [],
      "source": [
        "model.add(Convolution2D(32,(3,3),input_shape=(64,64,1),activation='relu'))"
      ]
    },
    {
      "cell_type": "markdown",
      "metadata": {
        "id": "1n1dV0ROhvkt"
      },
      "source": [
        "Add Pooling Layer"
      ]
    },
    {
      "cell_type": "code",
      "execution_count": null,
      "metadata": {
        "id": "nw-GD6HvhzBc"
      },
      "outputs": [],
      "source": [
        "model.add(MaxPooling2D(pool_size=(2,2)))"
      ]
    },
    {
      "cell_type": "markdown",
      "metadata": {
        "id": "D0NilBQSh2eb"
      },
      "source": [
        "Add The Flatten Layer"
      ]
    },
    {
      "cell_type": "code",
      "execution_count": null,
      "metadata": {
        "id": "MnOH5hhqh5ma"
      },
      "outputs": [],
      "source": [
        "model.add(Flatten())"
      ]
    },
    {
      "cell_type": "markdown",
      "metadata": {
        "id": "4r78fC08h-4S"
      },
      "source": [
        "Adding The Dense Layers"
      ]
    },
    {
      "cell_type": "code",
      "execution_count": null,
      "metadata": {
        "id": "pf8z4Hmph_uK"
      },
      "outputs": [],
      "source": [
        "model.add(Dense(units=512,activation='relu'))\n",
        "\n",
        "model.add(Dense(units=261,activation='relu'))"
      ]
    },
    {
      "cell_type": "code",
      "execution_count": null,
      "metadata": {
        "id": "R798JLKuiF4L"
      },
      "outputs": [],
      "source": [
        "model.add(Dense(units=9,activation='softmax'))"
      ]
    },
    {
      "cell_type": "markdown",
      "metadata": {
        "id": "4dcryOZziJHT"
      },
      "source": [
        "Compile The Model"
      ]
    },
    {
      "cell_type": "code",
      "execution_count": null,
      "metadata": {
        "id": "ZrxZynUriLXp"
      },
      "outputs": [],
      "source": [
        "model.compile(loss='categorical_crossentropy',optimizer='adam',metrics=['accuracy'])"
      ]
    },
    {
      "cell_type": "markdown",
      "metadata": {
        "id": "7czhCsxYiwSY"
      },
      "source": [
        "Fit The Model"
      ]
    },
    {
      "cell_type": "code",
      "execution_count": null,
      "metadata": {
        "id": "58ZiXthnoRrt"
      },
      "outputs": [],
      "source": [
        "from keras.preprocessing.image import ImageDataGenerator\n",
        "from keras.models import Sequential\n",
        "from keras.layers import Dense\n",
        "from keras.applications.vgg16 import VGG16\n",
        "import matplotlib.pyplot as plt\n",
        "from glob import glob\n",
        "from keras.utils import img_to_array\n",
        "from keras.utils import load_img\n"
      ]
    },
    {
      "cell_type": "code",
      "execution_count": null,
      "metadata": {
        "colab": {
          "base_uri": "https://localhost:8080/"
        },
        "id": "f2pYoJPVesRd",
        "outputId": "76fd1957-a80b-4c96-c7f7-6b1af4cc67e9"
      },
      "outputs": [],
      "source": [
        "model.fit_generator(x_train,steps_per_epoch=len(x_train),epochs=10,validation_data=x_test,validation_steps=len(x_test))"
      ]
    },
    {
      "cell_type": "markdown",
      "metadata": {
        "id": "ApU2NNg-kKjd"
      },
      "source": [
        "Save The Model\n",
        "\n"
      ]
    },
    {
      "cell_type": "code",
      "execution_count": null,
      "metadata": {
        "id": "c4U9IKOykMId"
      },
      "outputs": [],
      "source": [
        "model.save('aslpng2.h5')"
      ]
    }
  ],
  "metadata": {
    "colab": {
      "collapsed_sections": [],
      "provenance": []
    },
    "kernelspec": {
      "display_name": "Python 3.9.12 64-bit ('anaconda3')",
      "language": "python",
      "name": "python3"
    },
    "language_info": {
      "codemirror_mode": {
        "name": "ipython",
        "version": 3
      },
      "file_extension": ".py",
      "mimetype": "text/x-python",
      "name": "python",
      "nbconvert_exporter": "python",
      "pygments_lexer": "ipython3",
      "version": "3.9.12"
    },
    "vscode": {
      "interpreter": {
        "hash": "2f155fbeb9494e5ce992090b8427abe3542dae7719d8ea0d05cb0b78608edd18"
      }
    }
  },
  "nbformat": 4,
  "nbformat_minor": 0
}
