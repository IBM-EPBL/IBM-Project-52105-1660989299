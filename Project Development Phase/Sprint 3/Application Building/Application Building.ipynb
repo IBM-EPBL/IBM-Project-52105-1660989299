{
  "cells": [
    {
      "cell_type": "markdown",
      "metadata": {
        "id": "SvZ0VDvDRseB"
      },
      "source": [
        "**Test** **The** **Model**"
      ]
    },
    {
      "cell_type": "markdown",
      "metadata": {
        "id": "njrRWQnqR0FX"
      },
      "source": [
        "Build A Flask Application"
      ]
    },
    {
      "cell_type": "code",
      "execution_count": 47,
      "metadata": {
        "id": "nFsRT0m_R7EZ"
      },
      "outputs": [],
      "source": [
        "import numpy as np"
      ]
    },
    {
      "cell_type": "code",
      "execution_count": 48,
      "metadata": {
        "id": "SSgTEOdTTdb7"
      },
      "outputs": [],
      "source": [
        "import cv"
      ]
    },
    {
      "cell_type": "code",
      "execution_count": 49,
      "metadata": {
        "id": "u5TSgfmeThYy"
      },
      "outputs": [],
      "source": [
        "import os"
      ]
    },
    {
      "cell_type": "code",
      "execution_count": 50,
      "metadata": {
        "id": "t82US-Y_UEHX"
      },
      "outputs": [],
      "source": [
        "from tensorflow import keras\n",
        "import tensorflow"
      ]
    },
    {
      "cell_type": "code",
      "execution_count": 51,
      "metadata": {
        "id": "2MdYQsZoTlMy"
      },
      "outputs": [],
      "source": [
        "from flask import Flask, render_template, Response"
      ]
    },
    {
      "cell_type": "code",
      "execution_count": 52,
      "metadata": {
        "id": "ekXmHcHMTz9o"
      },
      "outputs": [],
      "source": [
        "from tensorflow import keras\n",
        "\n",
        "import tensorflow as keras"
      ]
    },
    {
      "cell_type": "markdown",
      "metadata": {},
      "source": [
        "Building Flash Application -Part3"
      ]
    },
    {
      "cell_type": "code",
      "execution_count": 54,
      "metadata": {
        "id": "F87QYhDWWujp"
      },
      "outputs": [],
      "source": [
        "global graph"
      ]
    },
    {
      "cell_type": "code",
      "execution_count": 56,
      "metadata": {
        "id": "-3wHnu_hW0JB"
      },
      "outputs": [],
      "source": [
        "global writer"
      ]
    },
    {
      "cell_type": "code",
      "execution_count": 57,
      "metadata": {
        "id": "zJgqGip6W3sF"
      },
      "outputs": [],
      "source": [
        "from skimage.transform import resize"
      ]
    },
    {
      "cell_type": "code",
      "execution_count": 58,
      "metadata": {
        "id": "HBZ6-b50XQKT"
      },
      "outputs": [],
      "source": [
        "graph = 'tf.get_default_graph()'"
      ]
    },
    {
      "cell_type": "code",
      "execution_count": 59,
      "metadata": {
        "id": "AY1AUhr5bZCo"
      },
      "outputs": [],
      "source": [
        "writer = None"
      ]
    },
    {
      "cell_type": "code",
      "execution_count": 60,
      "metadata": {
        "id": "SOYKsohtbtDd"
      },
      "outputs": [],
      "source": [
        "model = 'load_model(aspng1.hS)'"
      ]
    },
    {
      "cell_type": "code",
      "execution_count": 61,
      "metadata": {
        "id": "FCicYHUVc0lE"
      },
      "outputs": [],
      "source": [
        "vals = ['A','B','C','D','E','F','G','H','I']"
      ]
    },
    {
      "cell_type": "code",
      "execution_count": 62,
      "metadata": {
        "id": "4JA1A7CjdLIh"
      },
      "outputs": [],
      "source": [
        "app = Flask(__name__)"
      ]
    },
    {
      "cell_type": "code",
      "execution_count": 63,
      "metadata": {
        "colab": {
          "base_uri": "https://localhost:8080/"
        },
        "id": "48QZmFoYdTxQ",
        "outputId": "2ddaf068-271a-4a2b-fff4-9ebc671c5e19"
      },
      "outputs": [
        {
          "name": "stdout",
          "output_type": "stream",
          "text": [
            "[INFO] accessing video stream....\n"
          ]
        }
      ],
      "source": [
        "print(\"[INFO] accessing video stream....\")"
      ]
    },
    {
      "cell_type": "code",
      "execution_count": 64,
      "metadata": {
        "id": "dRUcOmhzdh1Y"
      },
      "outputs": [],
      "source": [
        "vs = 'cv2.videoCapture(0)'"
      ]
    },
    {
      "cell_type": "code",
      "execution_count": 65,
      "metadata": {
        "id": "UlCy5qkAdvyH"
      },
      "outputs": [],
      "source": [
        "pred=\"\""
      ]
    },
    {
      "cell_type": "markdown",
      "metadata": {},
      "source": [
        "Build The HTML Page"
      ]
    },
    {
      "cell_type": "code",
      "execution_count": 66,
      "metadata": {
        "id": "2ZVbhDOulRUQ"
      },
      "outputs": [],
      "source": [
        "@app.route(\"/\")\n",
        "def hello_world():\n",
        "    return render_template(\"index.html\")"
      ]
    }
  ],
  "metadata": {
    "colab": {
      "provenance": []
    },
    "kernelspec": {
      "display_name": "Python 3.9.12",
      "language": "python",
      "name": "python3"
    },
    "language_info": {
      "codemirror_mode": {
        "name": "ipython",
        "version": 3
      },
      "file_extension": ".py",
      "mimetype": "text/x-python",
      "name": "python",
      "nbconvert_exporter": "python",
      "pygments_lexer": "ipython3",
      "version": "3.9.12"
    },
    "vscode": {
      "interpreter": {
        "hash": "2f155fbeb9494e5ce992090b8427abe3542dae7719d8ea0d05cb0b78608edd18"
      }
    }
  },
  "nbformat": 4,
  "nbformat_minor": 0
}
